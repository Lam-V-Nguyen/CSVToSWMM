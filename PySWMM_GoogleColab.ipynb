{
  "cells": [
    {
      "cell_type": "markdown",
      "id": "6a9ba6b8",
      "metadata": {
        "id": "6a9ba6b8"
      },
      "source": [
        "# Introduction to PySWMM"
      ]
    },
    {
      "cell_type": "markdown",
      "id": "aae502b1",
      "metadata": {
        "id": "aae502b1"
      },
      "source": [
        "- PySWMM is a Python language software package for the creation, manipulation, \n",
        "and study of the structure, dynamics, and function of complex networks\n",
        "- PySWMM can load and manipulate USEPA Stormwater Management Models\n",
        "- PySWMM is used by engineers, modelers, and researchers who want to streamline stormwater modeling optimization, controls, and post-processing results\n",
        "- PySWMM is intended to provide:\n",
        "    1. Tools for the study of the structure and dynamics within USEPA SWMM5\n",
        "    1. A standard programming interface and graph implementation that is suitable for many applications\n",
        "    1. A rapid development environment for collaborative, multidisciplinary projects\n",
        "    1. An interface to USEPA SWMM5\n",
        "    1. Development and implementation of control logic outside of native EPA-SWMM Controls\n",
        "    1. Methods for users to establish their own node inflows\n",
        "    1. A coding interface to binary output files\n",
        "    1. New modeling possibilities for the SWMM5 Community"
      ]
    },
    {
      "cell_type": "markdown",
      "id": "c8349017",
      "metadata": {
        "id": "c8349017"
      },
      "source": [
        "# 1. Install PySWMM"
      ]
    },
    {
      "cell_type": "code",
      "execution_count": null,
      "id": "1a9e4716",
      "metadata": {
        "id": "1a9e4716"
      },
      "outputs": [],
      "source": [
        "# Install PySWMM\n",
        "!pip install pyswmm"
      ]
    },
    {
      "cell_type": "markdown",
      "id": "de7677c5",
      "metadata": {
        "id": "de7677c5"
      },
      "source": [
        "# 2. Check PySWMM"
      ]
    },
    {
      "cell_type": "code",
      "source": [
        "import pyswmm\n",
        "help(pyswmm)"
      ],
      "metadata": {
        "id": "2YzpmziUVFe-"
      },
      "id": "2YzpmziUVFe-",
      "execution_count": null,
      "outputs": []
    },
    {
      "cell_type": "markdown",
      "id": "396eb6e8",
      "metadata": {
        "id": "396eb6e8"
      },
      "source": [
        "# 3. Import Libraries"
      ]
    },
    {
      "cell_type": "code",
      "execution_count": null,
      "id": "525a5b32",
      "metadata": {
        "id": "525a5b32"
      },
      "outputs": [],
      "source": [
        "from pyswmm import Simulation\n",
        "from pyswmm import Nodes\n",
        "from pyswmm import Links\n",
        "from pyswmm import Subcatchments\n",
        "from pyswmm import RainGages\n",
        "import matplotlib.pyplot as plt"
      ]
    },
    {
      "cell_type": "markdown",
      "id": "f903fa5b",
      "metadata": {
        "id": "f903fa5b"
      },
      "source": [
        "# 4. Specify SWMM file"
      ]
    },
    {
      "cell_type": "code",
      "execution_count": null,
      "id": "907afaca",
      "metadata": {
        "id": "907afaca"
      },
      "outputs": [],
      "source": [
        "data_file = \"SWMM_Colab.inp\""
      ]
    },
    {
      "cell_type": "markdown",
      "id": "3a9aa912",
      "metadata": {
        "id": "3a9aa912"
      },
      "source": [
        "# 5. Load and Run SWMM Model"
      ]
    },
    {
      "cell_type": "code",
      "execution_count": null,
      "id": "caea2c99",
      "metadata": {
        "scrolled": false,
        "id": "caea2c99"
      },
      "outputs": [],
      "source": [
        "# Load SWMM model, run, and get simulation current time\n",
        "with Simulation(data_file) as sim:\n",
        "    for step in sim:\n",
        "        #print(sim.current_time.strftime('%m/%d/%Y %H:%M:%S'))\n",
        "        pass"
      ]
    },
    {
      "cell_type": "markdown",
      "id": "af72ed56",
      "metadata": {
        "id": "af72ed56"
      },
      "source": [
        "# 6. Nodes in PySWMM"
      ]
    },
    {
      "cell_type": "code",
      "execution_count": null,
      "id": "b2afb728",
      "metadata": {
        "id": "b2afb728"
      },
      "outputs": [],
      "source": [
        "# Load and Get number of Nodes\n",
        "with Simulation(data_file) as sim:\n",
        "    node_object = Nodes(sim)\n",
        "    n_node = []\n",
        "    for node in node_object:\n",
        "        n_node.append(node)\n",
        "    print('Number of Nodes: ', len(n_node))"
      ]
    },
    {
      "cell_type": "code",
      "execution_count": null,
      "id": "112fa7e3",
      "metadata": {
        "id": "112fa7e3"
      },
      "outputs": [],
      "source": [
        "# Get Name of Nodes\n",
        "with Simulation(data_file) as sim:\n",
        "    node_object = Nodes(sim)\n",
        "    name_node = []\n",
        "    for node in node_object:\n",
        "        name_node.append(node.nodeid)\n",
        "    print(name_node)"
      ]
    },
    {
      "cell_type": "code",
      "execution_count": null,
      "id": "318f3db2",
      "metadata": {
        "id": "318f3db2"
      },
      "outputs": [],
      "source": [
        "# Check Node type\n",
        "# Return True or False\n",
        "node_n = '55909'\n",
        "with Simulation(data_file) as sim:\n",
        "    node_object = Nodes(sim)[node_n]\n",
        "    print('Junction:', node_object.is_junction())\n",
        "    print('Divider:', node_object.is_divider())\n",
        "    print('Outfall:', node_object.is_outfall())\n",
        "    print('Storage Unit:', node_object.is_storage())"
      ]
    },
    {
      "cell_type": "markdown",
      "id": "a2a5d16f",
      "metadata": {
        "id": "a2a5d16f"
      },
      "source": [
        "### 6.1. Get-Set Functions"
      ]
    },
    {
      "cell_type": "code",
      "execution_count": null,
      "id": "2375ed8b",
      "metadata": {
        "id": "2375ed8b"
      },
      "outputs": [],
      "source": [
        "# Get/Set Invert Elevation of Node '55909'\n",
        "# Return float values\n",
        "\n",
        "node_n = '55909'\n",
        "with Simulation(data_file) as sim:\n",
        "    node_object = Nodes(sim)\n",
        "    invert_elev_before = node_object[node_n].invert_elevation\n",
        "    node_object[node_n].invert_elevation = 20\n",
        "    invert_elev_after = node_object[node_n].invert_elevation\n",
        "    print('Invert Elevation before: ', invert_elev_before)\n",
        "    print('Invert Elevation after: ', invert_elev_after)"
      ]
    },
    {
      "cell_type": "code",
      "execution_count": null,
      "id": "2d2a08ab",
      "metadata": {
        "id": "2d2a08ab"
      },
      "outputs": [],
      "source": [
        "# Get/Set Max. Depth of Node '55909'\n",
        "# Return float values\n",
        "\n",
        "node_n = '55909'\n",
        "with Simulation(data_file) as sim:\n",
        "    node_object = Nodes(sim)\n",
        "    full_depth_before = node_object[node_n].full_depth\n",
        "    node_object[node_n].full_depth = 20\n",
        "    full_depth_after = node_object[node_n].full_depth\n",
        "    print('Max. Depth before: ', full_depth_before)\n",
        "    print('Max. Depth after: ', full_depth_after)"
      ]
    },
    {
      "cell_type": "code",
      "execution_count": null,
      "id": "93e931ed",
      "metadata": {
        "id": "93e931ed"
      },
      "outputs": [],
      "source": [
        "# Get/Set Initial Depth of Node '55909'\n",
        "# Return float values\n",
        "\n",
        "node_n = '55909'\n",
        "with Simulation(data_file) as sim:\n",
        "    node_object = Nodes(sim)\n",
        "    initial_depth_before = node_object[node_n].initial_depth\n",
        "    node_object[node_n].initial_depth = 20\n",
        "    initial_depth_after = node_object[node_n].initial_depth\n",
        "    print('Initial Depth before: ', initial_depth_before)\n",
        "    print('Initial Depth after: ', initial_depth_after)"
      ]
    },
    {
      "cell_type": "code",
      "execution_count": null,
      "id": "b6b32c76",
      "metadata": {
        "id": "b6b32c76"
      },
      "outputs": [],
      "source": [
        "# Get/Set Surcharge Depth of Node '55909'\n",
        "# Return float values\n",
        "\n",
        "node_n = '55909'\n",
        "with Simulation(data_file) as sim:\n",
        "    node_object = Nodes(sim)\n",
        "    sur_charge_before = node_object[node_n].surcharge_depth\n",
        "    node_object[node_n].surcharge_depth = 20\n",
        "    sur_charge_after = node_object[node_n].surcharge_depth\n",
        "    print('Surcharge Depth before: ', sur_charge_before)\n",
        "    print('Surcharge Depth after: ', sur_charge_after)"
      ]
    },
    {
      "cell_type": "code",
      "execution_count": null,
      "id": "680f9c66",
      "metadata": {
        "id": "680f9c66"
      },
      "outputs": [],
      "source": [
        "# Get/Set Ponding Area of Node '55909'\n",
        "# Return float values\n",
        "\n",
        "node_n = '55909'\n",
        "with Simulation(data_file) as sim:\n",
        "    node_object = Nodes(sim)\n",
        "    pond_area_before = node_object[node_n].ponding_area\n",
        "    node_object[node_n].ponding_area = 20\n",
        "    pond_area_after = node_object[node_n].ponding_area\n",
        "    print('Ponded Area before: ', pond_area_before)\n",
        "    print('Ponded Area after: ', pond_area_after)"
      ]
    },
    {
      "cell_type": "code",
      "execution_count": null,
      "id": "83ac1d04",
      "metadata": {
        "id": "83ac1d04"
      },
      "outputs": [],
      "source": [
        "# Generate Inflow into Node '55909'\n",
        "\n",
        "node_n = '55909'\n",
        "with Simulation(data_file) as sim:\n",
        "    node_object = Nodes(sim)\n",
        "    n_new, total_inflow_new = [], []\n",
        "    sim.step_advance(300)\n",
        "    for step in sim:\n",
        "        n_new.append(sim.current_time.strftime('%m/%d/%Y %H:%M:%S'))\n",
        "        node_object[node_n].generated_inflow(0.2)\n",
        "        total_inflow_new.append(node_object[node_n].total_inflow)"
      ]
    },
    {
      "cell_type": "markdown",
      "id": "0aae2a80",
      "metadata": {
        "id": "0aae2a80"
      },
      "source": [
        "### 6.2. Get Simulation Results"
      ]
    },
    {
      "cell_type": "code",
      "execution_count": null,
      "id": "77f6d9b3",
      "metadata": {
        "id": "77f6d9b3"
      },
      "outputs": [],
      "source": [
        "# Get Results for Total Inflow of Node '55909'\n",
        "# Return float values\n",
        "\n",
        "node_n = '55909'\n",
        "with Simulation(data_file) as sim:\n",
        "    node_object = Nodes(sim)\n",
        "    n, total_inflow = [],[]\n",
        "    sim.step_advance(300)\n",
        "    for step in sim:\n",
        "        n.append(sim.current_time.strftime('%m/%d/%Y %H:%M:%S'))        \n",
        "        total_inflow.append(node_object[node_n].total_inflow)"
      ]
    },
    {
      "cell_type": "code",
      "execution_count": null,
      "id": "9e0f49c0",
      "metadata": {
        "id": "9e0f49c0"
      },
      "outputs": [],
      "source": [
        "# Plot total inflow\n",
        "\n",
        "plt.plot(n, total_inflow)\n",
        "plt.xticks(n[::20], rotation=90)\n",
        "plt.xlabel('Time', fontsize=15) \n",
        "plt.ylabel('Total Inflow (LPS)', fontsize=15)\n",
        "plt.title(\"Total inflow at Node \" +  node_n + \" calculated from PySWMM\", fontsize=20)\n",
        "plt.show()"
      ]
    },
    {
      "cell_type": "markdown",
      "id": "90129280",
      "metadata": {
        "id": "90129280"
      },
      "source": [
        "Total inflow at Node 55909 from SWMM\n",
        "![image.png](data:image/png;base64,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)"
      ]
    },
    {
      "cell_type": "code",
      "execution_count": null,
      "id": "740f7573",
      "metadata": {
        "id": "740f7573"
      },
      "outputs": [],
      "source": [
        "# Compare flow at Node '55909' before and after adding inflow\n",
        "\n",
        "plt.plot(total_inflow, label='Before add Inflow to Node')\n",
        "plt.plot(total_inflow_new, label='After add Inflow to Node')\n",
        "#plt.xticks(n_new[::20], rotation=90)\n",
        "plt.xlabel('Time Step', fontsize=15) \n",
        "plt.ylabel('Total Inflow (LPS)', fontsize=15)\n",
        "plt.title(\"Compare total inflow at Node \" +  node_n, fontsize=20)\n",
        "plt.legend()\n",
        "plt.show()"
      ]
    },
    {
      "cell_type": "code",
      "execution_count": null,
      "id": "0c8afc05",
      "metadata": {
        "id": "0c8afc05"
      },
      "outputs": [],
      "source": [
        "# Get Results for Total Outflow of Node '55909'\n",
        "# Return float values\n",
        "\n",
        "node_n = '55909'\n",
        "with Simulation(data_file) as sim:\n",
        "    node_object = Nodes(sim)\n",
        "    n, total_outflow = [],[]\n",
        "    sim.step_advance(300)\n",
        "    for step in sim:\n",
        "        n.append(sim.current_time.strftime('%m/%d/%Y %H:%M:%S'))        \n",
        "        total_outflow.append(node_object[node_n].total_outflow)"
      ]
    },
    {
      "cell_type": "code",
      "execution_count": null,
      "id": "ff392a22",
      "metadata": {
        "id": "ff392a22"
      },
      "outputs": [],
      "source": [
        "# Plot total outflow\n",
        "\n",
        "plt.plot(n, total_outflow)\n",
        "plt.xticks(n[::20], rotation=90)\n",
        "plt.xlabel('Time', fontsize=15) \n",
        "plt.ylabel('Total Outflow (LPS)', fontsize=15)\n",
        "plt.title(\"Total outflow at Node \" +  node_n + \" calculated from PySWMM\", fontsize=20)\n",
        "plt.show()"
      ]
    },
    {
      "cell_type": "code",
      "execution_count": null,
      "id": "9c9c87ad",
      "metadata": {
        "id": "9c9c87ad"
      },
      "outputs": [],
      "source": [
        "# Get Results for Depth of Node '55909'\n",
        "# Return float values\n",
        "\n",
        "node_n = '55909'\n",
        "with Simulation(data_file) as sim:\n",
        "    node_object = Nodes(sim)\n",
        "    n, depth = [],[]\n",
        "    for step in sim:\n",
        "        n.append(sim.current_time.strftime('%m/%d/%Y %H:%M:%S'))        \n",
        "        depth.append(node_object[node_n].depth)"
      ]
    },
    {
      "cell_type": "code",
      "execution_count": null,
      "id": "b53ad5ec",
      "metadata": {
        "id": "b53ad5ec"
      },
      "outputs": [],
      "source": [
        "# Get Results for Volume of Node '55909'\n",
        "# Return float values\n",
        "\n",
        "node_n = '55909'\n",
        "with Simulation(data_file) as sim:\n",
        "    node_object = Nodes(sim)\n",
        "    n, volume = [],[]\n",
        "    for step in sim:\n",
        "        n.append(sim.current_time.strftime('%m/%d/%Y %H:%M:%S'))        \n",
        "        volume.append(node_object[node_n].volume)"
      ]
    },
    {
      "cell_type": "code",
      "execution_count": null,
      "id": "b8e80a01",
      "metadata": {
        "id": "b8e80a01"
      },
      "outputs": [],
      "source": [
        "# Get Results for Flooding Rate of Node '55909'\n",
        "# Return 0 (no flood) or 1 (flood)\n",
        "\n",
        "node_n = '55909'\n",
        "with Simulation(data_file) as sim:\n",
        "    node_object = Nodes(sim)\n",
        "    n, flood = [],[]\n",
        "    for step in sim:\n",
        "        n.append(sim.current_time.strftime('%m/%d/%Y %H:%M:%S'))        \n",
        "        flood.append(node_object[node_n].flooding)"
      ]
    },
    {
      "cell_type": "markdown",
      "id": "3a641192",
      "metadata": {
        "id": "3a641192"
      },
      "source": [
        "# 7. Links in PySWMM"
      ]
    },
    {
      "cell_type": "code",
      "execution_count": null,
      "id": "6d762f56",
      "metadata": {
        "id": "6d762f56"
      },
      "outputs": [],
      "source": [
        "# Load and Get number of Links\n",
        "\n",
        "with Simulation(data_file) as sim:\n",
        "    link_object = Links(sim)\n",
        "    n_link = []\n",
        "    for link in link_object:\n",
        "        n_link.append(link)\n",
        "    print('Number of Nodes: ', len(n_link))"
      ]
    },
    {
      "cell_type": "code",
      "execution_count": null,
      "id": "8fbdb93e",
      "metadata": {
        "scrolled": true,
        "id": "8fbdb93e"
      },
      "outputs": [],
      "source": [
        "# Get Name of Links\n",
        "\n",
        "with Simulation(data_file) as sim:\n",
        "    link_object = Links(sim)\n",
        "    name_link = []\n",
        "    for link in link_object:\n",
        "        name_link.append(link.linkid)\n",
        "    #print(name_link)"
      ]
    },
    {
      "cell_type": "code",
      "execution_count": null,
      "id": "7cd1b51a",
      "metadata": {
        "id": "7cd1b51a"
      },
      "outputs": [],
      "source": [
        "# Check Link type\n",
        "\n",
        "link_n = '99722'\n",
        "with Simulation(data_file) as sim:\n",
        "    link_object = Links(sim)[link_n]\n",
        "    print('Conduit:', link_object.is_conduit())\n",
        "    print('Orifice:', link_object.is_orifice())\n",
        "    print('Outlet:', link_object.is_outlet())\n",
        "    print('Pump:', link_object.is_pump())\n",
        "    print('Weir:', link_object.is_weir())"
      ]
    },
    {
      "cell_type": "code",
      "execution_count": null,
      "id": "8518160e",
      "metadata": {
        "id": "8518160e"
      },
      "outputs": [],
      "source": [
        "# Check Inlet Node and Outlet Node of Link\n",
        "\n",
        "link_n = '99722'\n",
        "with Simulation(data_file) as sim:\n",
        "    link_object = Links(sim)[link_n]\n",
        "    in_node = link_object.inlet_node\n",
        "    out_node = link_object.outlet_node\n",
        "    print('Link:', link_n)\n",
        "    print('Inlet Node:', in_node)\n",
        "    print('Outlet Node:', out_node)   "
      ]
    },
    {
      "cell_type": "markdown",
      "id": "91e4dd94",
      "metadata": {
        "id": "91e4dd94"
      },
      "source": [
        "### 7.1. Get-Set Functions"
      ]
    },
    {
      "cell_type": "code",
      "execution_count": null,
      "id": "4b29d073",
      "metadata": {
        "id": "4b29d073"
      },
      "outputs": [],
      "source": [
        "# Get/Set Inlet Offset of Links 56177\n",
        "\n",
        "link_n = '56177'\n",
        "with Simulation(data_file) as sim:\n",
        "    link_object = Links(sim)\n",
        "    inlet_offset_before = link_object[link_n].inlet_offset\n",
        "    link_object[link_n].inlet_offset = 20\n",
        "    inlet_offset_after = link_object[link_n].inlet_offset\n",
        "    print('Inlet Offset before: ', inlet_offset_before)\n",
        "    print('Inlet Offset after: ', inlet_offset_after)"
      ]
    },
    {
      "cell_type": "code",
      "execution_count": null,
      "id": "cc0b3ddf",
      "metadata": {
        "id": "cc0b3ddf"
      },
      "outputs": [],
      "source": [
        "# Get/Set Outlet Offset of Links 56177\n",
        "\n",
        "link_n = '56177'\n",
        "with Simulation(data_file) as sim:\n",
        "    link_object = Links(sim)\n",
        "    outlet_offset_before = link_object[link_n].outlet_offset\n",
        "    link_object[link_n].outlet_offset = 20\n",
        "    outlet_offset_after = link_object[link_n].outlet_offset\n",
        "    print('Outlet Offset before: ', outlet_offset_before)\n",
        "    print('Outlet Offset after: ', outlet_offset_after)"
      ]
    },
    {
      "cell_type": "code",
      "execution_count": null,
      "id": "69b6378f",
      "metadata": {
        "id": "69b6378f"
      },
      "outputs": [],
      "source": [
        "# Get/Set Initial Flow of Links 56177\n",
        "\n",
        "link_n = '56177'\n",
        "with Simulation(data_file) as sim:\n",
        "    link_object = Links(sim)\n",
        "    ini_flow_before = link_object[link_n].initial_flow\n",
        "    link_object[link_n].initial_flow = 20\n",
        "    ini_flow_after = link_object[link_n].initial_flow\n",
        "    print('Initial Flow before: ', ini_flow_before)\n",
        "    print('Initial Flow after: ', ini_flow_after)"
      ]
    },
    {
      "cell_type": "code",
      "execution_count": null,
      "id": "a5f59415",
      "metadata": {
        "id": "a5f59415"
      },
      "outputs": [],
      "source": [
        "# Get/Set Maximum Flow of Links 56177\n",
        "\n",
        "link_n = '56177'\n",
        "with Simulation(data_file) as sim:\n",
        "    link_object = Links(sim)\n",
        "    max_flow_before = link_object[link_n].flow_limit\n",
        "    link_object[link_n].flow_limit = 20\n",
        "    max_flow_after = link_object[link_n].flow_limit\n",
        "    print('Maximum Flow before: ', max_flow_before)\n",
        "    print('Maximum Flow after: ', max_flow_after)"
      ]
    },
    {
      "cell_type": "code",
      "execution_count": null,
      "id": "d656eace",
      "metadata": {
        "id": "d656eace"
      },
      "outputs": [],
      "source": [
        "# Get/Set Entry Loss Coeff. of Links 56177\n",
        "\n",
        "link_n = '56177'\n",
        "with Simulation(data_file) as sim:\n",
        "    link_object = Links(sim)\n",
        "    entry_loss_before = link_object[link_n].inlet_head_loss\n",
        "    link_object[link_n].inlet_head_loss = 20\n",
        "    entry_loss_after = link_object[link_n].inlet_head_loss\n",
        "    print('Entry Loss Coefficient before: ', entry_loss_before)\n",
        "    print('Entry Loss Coefficient after: ', entry_loss_after)"
      ]
    },
    {
      "cell_type": "code",
      "execution_count": null,
      "id": "6c84073d",
      "metadata": {
        "id": "6c84073d"
      },
      "outputs": [],
      "source": [
        "# Get/Set Exit Loss Coeff. of Links 56177\n",
        "\n",
        "link_n = '56177'\n",
        "with Simulation(data_file) as sim:\n",
        "    link_object = Links(sim)\n",
        "    outlet_loss_before = link_object[link_n].outlet_head_loss\n",
        "    link_object[link_n].outlet_head_loss = 20\n",
        "    outlet_loss_after = link_object[link_n].outlet_head_loss\n",
        "    print('Exit Loss Coefficient before: ', outlet_loss_before)\n",
        "    print('Exit Loss Coefficient after: ', outlet_loss_after)"
      ]
    },
    {
      "cell_type": "code",
      "execution_count": null,
      "id": "958830d5",
      "metadata": {
        "id": "958830d5"
      },
      "outputs": [],
      "source": [
        "# Get/Set Average Loss Coeff. of Links 56177\n",
        "\n",
        "link_n = '56177'\n",
        "with Simulation(data_file) as sim:\n",
        "    link_object = Links(sim)\n",
        "    ave_loss_before = link_object[link_n].average_head_loss\n",
        "    link_object[link_n].average_head_loss = 20\n",
        "    ave_loss_after = link_object[link_n].average_head_loss\n",
        "    print('Average Loss Coefficient before: ', ave_loss_before)\n",
        "    print('Average Loss Coefficient after: ', ave_loss_after)"
      ]
    },
    {
      "cell_type": "markdown",
      "id": "eb1d28ea",
      "metadata": {
        "id": "eb1d28ea"
      },
      "source": [
        "### 7.2. Get Simulation Results"
      ]
    },
    {
      "cell_type": "code",
      "execution_count": null,
      "id": "59466493",
      "metadata": {
        "id": "59466493"
      },
      "outputs": [],
      "source": [
        "# Get Results for Flow of Links 56177\n",
        "\n",
        "link_n = '56177'\n",
        "with Simulation(data_file) as sim:\n",
        "    link_object = Links(sim)\n",
        "    n, flow = [],[]\n",
        "    sim.step_advance(300)\n",
        "    for step in sim:\n",
        "        n.append(sim.current_time.strftime('%m/%d/%Y %H:%M:%S'))        \n",
        "        flow.append(link_object[link_n].flow)"
      ]
    },
    {
      "cell_type": "code",
      "execution_count": null,
      "id": "f8c0bdc5",
      "metadata": {
        "id": "f8c0bdc5"
      },
      "outputs": [],
      "source": [
        "# Plot flow in link\n",
        "\n",
        "plt.plot(n, flow)\n",
        "plt.xticks(n[::20], rotation=90)\n",
        "plt.xlabel('Time', fontsize=15) \n",
        "plt.ylabel('Flow (LPS)', fontsize=15)\n",
        "plt.title(\"Flow at Link \" +  link_n + \" calculated from PySWMM\", fontsize=20)\n",
        "plt.show()"
      ]
    },
    {
      "cell_type": "markdown",
      "id": "688a3d42",
      "metadata": {
        "id": "688a3d42"
      },
      "source": [
        "Flow at Link 56177 from SWMM\n",
        "![image.png](data:image/png;base64,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)"
      ]
    },
    {
      "cell_type": "code",
      "execution_count": null,
      "id": "2413ac7c",
      "metadata": {
        "id": "2413ac7c"
      },
      "outputs": [],
      "source": [
        "# Get Results for Depth of Links 56177\n",
        "\n",
        "link_n = '56177'\n",
        "with Simulation(data_file) as sim:\n",
        "    link_object = Links(sim)\n",
        "    n, depth = [],[]\n",
        "    sim.step_advance(300)\n",
        "    for step in sim:\n",
        "        n.append(sim.current_time.strftime('%m/%d/%Y %H:%M:%S'))        \n",
        "        depth.append(link_object[link_n].depth)"
      ]
    },
    {
      "cell_type": "code",
      "execution_count": null,
      "id": "ab24cb72",
      "metadata": {
        "id": "ab24cb72"
      },
      "outputs": [],
      "source": [
        "# Plot link's depth\n",
        "\n",
        "plt.plot(n, depth)\n",
        "plt.xticks(n[::20], rotation=90)\n",
        "plt.xlabel('Time', fontsize=15) \n",
        "plt.ylabel('Depth (m)', fontsize=15)\n",
        "plt.title(\"Depth at Link \" +  link_n + \" calculated from PySWMM\", fontsize=20)\n",
        "plt.show()"
      ]
    },
    {
      "cell_type": "markdown",
      "id": "a3dcf138",
      "metadata": {
        "id": "a3dcf138"
      },
      "source": [
        "Depth at Link 56177 from SWMM\n",
        "\n",
        "![image.png](data:image/png;base64,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)"
      ]
    },
    {
      "cell_type": "code",
      "execution_count": null,
      "id": "be74e710",
      "metadata": {
        "id": "be74e710"
      },
      "outputs": [],
      "source": [
        "# Get Results for Volume of Links 56177\n",
        "link_n = '56177'\n",
        "with Simulation(data_file) as sim:\n",
        "    link_object = Links(sim)\n",
        "    n, volume = [],[]\n",
        "    sim.step_advance(300)\n",
        "    for step in sim:\n",
        "        n.append(sim.current_time.strftime('%m/%d/%Y %H:%M:%S'))        \n",
        "        volume.append(link_object[link_n].volume)"
      ]
    },
    {
      "cell_type": "markdown",
      "id": "94e81950",
      "metadata": {
        "id": "94e81950"
      },
      "source": [
        "# 8. RainGage in PySWMM"
      ]
    },
    {
      "cell_type": "code",
      "execution_count": null,
      "id": "8c307ec8",
      "metadata": {
        "id": "8c307ec8"
      },
      "outputs": [],
      "source": [
        "# Load and Get number of RainGages\n",
        "\n",
        "with Simulation(data_file) as sim:\n",
        "    raingage_object = RainGages(sim)\n",
        "    n_raingage = []\n",
        "    for rain in raingage_object:\n",
        "        print(rain.raingageid)\n",
        "        n_raingage.append(rain)\n",
        "    print('Number of RainGages: ', len(n_raingage))"
      ]
    },
    {
      "cell_type": "markdown",
      "id": "60498dda",
      "metadata": {
        "id": "60498dda"
      },
      "source": [
        "# 9. SubCatchment in PySWMM"
      ]
    },
    {
      "cell_type": "code",
      "execution_count": null,
      "id": "eb4ef66b",
      "metadata": {
        "id": "eb4ef66b"
      },
      "outputs": [],
      "source": [
        "# Load and Get number of SubCatchments\n",
        "\n",
        "with Simulation(data_file) as sim:\n",
        "    subcatch_object = Subcatchments(sim)\n",
        "    n_subcatch = []\n",
        "    for subcatch in subcatch_object:\n",
        "        n_subcatch.append(subcatch)\n",
        "    print('Number of SubCatchments: ', len(n_subcatch))"
      ]
    },
    {
      "cell_type": "code",
      "execution_count": null,
      "id": "11980017",
      "metadata": {
        "id": "11980017"
      },
      "outputs": [],
      "source": [
        "# Get Name of SubCatchments\n",
        "\n",
        "with Simulation(data_file) as sim:\n",
        "    subcatch_object = Subcatchments(sim)\n",
        "    name_sub = []\n",
        "    for subcatch in subcatch_object:\n",
        "        name_sub.append(subcatch.subcatchmentid)\n",
        "    #print(name_sub)"
      ]
    },
    {
      "cell_type": "markdown",
      "id": "e722b4e1",
      "metadata": {
        "id": "e722b4e1"
      },
      "source": [
        "### 9.1. Get-Set Functions"
      ]
    },
    {
      "cell_type": "code",
      "execution_count": null,
      "id": "99bde7c2",
      "metadata": {
        "id": "99bde7c2"
      },
      "outputs": [],
      "source": [
        "# Get/Set Area of SubCatchments SubCatch_128\n",
        "\n",
        "subcatch_n = 'SubCatch_128'\n",
        "with Simulation(data_file) as sim:\n",
        "    subcatch_object = Subcatchments(sim)\n",
        "    subcatch_area_before = subcatch_object[subcatch_n].area\n",
        "    subcatch_object[subcatch_n].area = 20\n",
        "    subcatch_area_after = subcatch_object[subcatch_n].area\n",
        "    print('Area before: ', subcatch_area_before)\n",
        "    print('Area after: ', subcatch_area_after)"
      ]
    },
    {
      "cell_type": "code",
      "execution_count": null,
      "id": "d6bec2e2",
      "metadata": {
        "id": "d6bec2e2"
      },
      "outputs": [],
      "source": [
        "# Get/Set Flow Width of SubCatchments SubCatch_128\n",
        "\n",
        "subcatch_n = 'SubCatch_128'\n",
        "with Simulation(data_file) as sim:\n",
        "    subcatch_object = Subcatchments(sim)\n",
        "    flow_width_before = subcatch_object[subcatch_n].width\n",
        "    subcatch_object[subcatch_n].width = 20\n",
        "    flow_width_after = subcatch_object[subcatch_n].width\n",
        "    print('Flow Width before: ', flow_width_before)\n",
        "    print('Flow Width after: ', flow_width_after)"
      ]
    },
    {
      "cell_type": "code",
      "execution_count": null,
      "id": "1c8c72ac",
      "metadata": {
        "id": "1c8c72ac"
      },
      "outputs": [],
      "source": [
        "# Get Outlet name of SubCatchments SubCatch_128\n",
        "\n",
        "subcatch_n = 'SubCatch_128'\n",
        "with Simulation(data_file) as sim:\n",
        "    subcatch_object = Subcatchments(sim)\n",
        "    print(subcatch_object[subcatch_n].connection[1])"
      ]
    },
    {
      "cell_type": "code",
      "execution_count": null,
      "id": "f3c45d5a",
      "metadata": {
        "id": "f3c45d5a"
      },
      "outputs": [],
      "source": [
        "# Get/Set Percentage Slope of SubCatchments SubCatch_128\n",
        "subcatch_n = 'SubCatch_128'\n",
        "with Simulation(data_file) as sim:\n",
        "    subcatch_object = Subcatchments(sim)\n",
        "    slope_before = subcatch_object[subcatch_n].slope\n",
        "    subcatch_object[subcatch_n].slope = 20\n",
        "    slope_after = subcatch_object[subcatch_n].slope\n",
        "    print('Percentage Slope before: ', slope_before)\n",
        "    print('Percentage Slope after: ', slope_after)"
      ]
    },
    {
      "cell_type": "code",
      "execution_count": null,
      "id": "f22caf8d",
      "metadata": {
        "id": "f22caf8d"
      },
      "outputs": [],
      "source": [
        "# Get Percent Impervious of SubCatchments SubCatch_128\n",
        "\n",
        "subcatch_n = 'SubCatch_128'\n",
        "with Simulation(data_file) as sim:\n",
        "    subcatch_object = Subcatchments(sim)\n",
        "    impervious_before = subcatch_object[subcatch_n].percent_impervious\n",
        "    #subcatch_object[subcatch_n].percent_impervious = 20\n",
        "    #impervious_after = subcatch_object[subcatch_n].percent_impervious\n",
        "    print('Percent Impervious before: ', impervious_before)\n",
        "    #print('Percent Impervious after: ', impervious_after)"
      ]
    },
    {
      "cell_type": "markdown",
      "id": "45d10d85",
      "metadata": {
        "id": "45d10d85"
      },
      "source": [
        "### 9.2. Get Simulation Results"
      ]
    },
    {
      "cell_type": "code",
      "execution_count": null,
      "id": "c59b0985",
      "metadata": {
        "id": "c59b0985"
      },
      "outputs": [],
      "source": [
        "# Get Results of Evaporation Loss of SubCatchments SubCatch_128\n",
        "\n",
        "subcatch_n = 'SubCatch_128'\n",
        "with Simulation(data_file) as sim:\n",
        "    subcatch_object = Subcatchments(sim)\n",
        "    n, eva_loss = [],[]\n",
        "    sim.step_advance(300)\n",
        "    for step in sim:\n",
        "        n.append(sim.current_time.strftime('%m/%d/%Y %H:%M:%S'))        \n",
        "        eva_loss.append(subcatch_object[subcatch_n].evaporation_loss)"
      ]
    },
    {
      "cell_type": "code",
      "execution_count": null,
      "id": "074bbd97",
      "metadata": {
        "id": "074bbd97"
      },
      "outputs": [],
      "source": [
        "# Plot Evaporation Loss of SubCatchments SubCatch_128\n",
        "\n",
        "plt.plot(n, eva_loss)\n",
        "plt.xticks(n[::20], rotation=90)\n",
        "plt.xlabel('Time', fontsize=15) \n",
        "plt.ylabel('Evaporation Loss', fontsize=15)\n",
        "plt.title(\"Evaporation Loss at SubCatchment \" +  link_n + \" calculated from PySWMM\", fontsize=20)\n",
        "plt.show()"
      ]
    },
    {
      "cell_type": "code",
      "execution_count": null,
      "id": "ba032d16",
      "metadata": {
        "id": "ba032d16"
      },
      "outputs": [],
      "source": [
        "# Get Results of Infitration Loss of SubCatchments SubCatch_128\n",
        "\n",
        "subcatch_n = 'SubCatch_128'\n",
        "with Simulation(data_file) as sim:\n",
        "    subcatch_object = Subcatchments(sim)\n",
        "    n, infi_loss = [],[]\n",
        "    sim.step_advance(300)\n",
        "    for step in sim:\n",
        "        n.append(sim.current_time.strftime('%m/%d/%Y %H:%M:%S'))        \n",
        "        infi_loss.append(subcatch_object[subcatch_n].infiltration_loss)"
      ]
    },
    {
      "cell_type": "code",
      "execution_count": null,
      "id": "b63d96d8",
      "metadata": {
        "id": "b63d96d8"
      },
      "outputs": [],
      "source": [
        "# Get Results of Run on of SubCatchments SubCatch_128\n",
        "\n",
        "subcatch_n = 'SubCatch_128'\n",
        "with Simulation(data_file) as sim:\n",
        "    subcatch_object = Subcatchments(sim)\n",
        "    n, runon = [],[]\n",
        "    sim.step_advance(300)\n",
        "    for step in sim:\n",
        "        n.append(sim.current_time.strftime('%m/%d/%Y %H:%M:%S'))        \n",
        "        runon.append(subcatch_object[subcatch_n].runon)"
      ]
    },
    {
      "cell_type": "code",
      "execution_count": null,
      "id": "f1cd345a",
      "metadata": {
        "id": "f1cd345a"
      },
      "outputs": [],
      "source": [
        "# Get Results of Run off of SubCatchments SubCatch_128\n",
        "\n",
        "subcatch_n = 'SubCatch_128'\n",
        "with Simulation(data_file) as sim:\n",
        "    subcatch_object = Subcatchments(sim)\n",
        "    n, runoff = [],[]\n",
        "    sim.step_advance(300)\n",
        "    for step in sim:\n",
        "        n.append(sim.current_time.strftime('%m/%d/%Y %H:%M:%S'))        \n",
        "        runoff.append(subcatch_object[subcatch_n].runoff)"
      ]
    },
    {
      "cell_type": "markdown",
      "id": "609487a5",
      "metadata": {
        "id": "609487a5"
      },
      "source": [
        "# Discussion"
      ]
    },
    {
      "cell_type": "markdown",
      "id": "a3186c17",
      "metadata": {
        "id": "a3186c17"
      },
      "source": [
        "## Advantages\n",
        "    - Can execute SWMM model automatically\n",
        "     - Can design many SWMM scenarios (by changing ), run, and get results\n",
        "     - Can be used to calibrate SWMM model automatically (trails and errors approach)\n",
        "     - Can adjust many properties of components for multi-simulation:\n",
        "         + Node: Inflow, Invert Elevation, Max. Depth, Initial Depth, Surcharge Depth, Ponded Area\n",
        "         + Link: Inlet/Outlet Offset, Inital Flow, Maximum Flow, Entry/Exit/Avg. Loss Coefficient\n",
        "         + SubCatchment: Area, Width, %Slope\n",
        "\n",
        "## Disadvantages\n",
        "     - Do not have many functions (compare to EPANET-MATLAB Toolkit)\n",
        "     - Time steps are not the same, difficult for comparing simulated values to measured values (interpolation can be used)\n",
        "     - Cannot change some properties of components for multi-simulation:\n",
        "         + Link: Shape, Max. Depth, Roughness\n",
        "         + SubCatchment: Outlet, Rain Gage, %Imperviousness, N-Imperviousness, N-Perviousness, DStore-Imperviousness, DStore-Perviousness"
      ]
    }
  ],
  "metadata": {
    "kernelspec": {
      "display_name": "Python 3 (ipykernel)",
      "language": "python",
      "name": "python3"
    },
    "language_info": {
      "codemirror_mode": {
        "name": "ipython",
        "version": 3
      },
      "file_extension": ".py",
      "mimetype": "text/x-python",
      "name": "python",
      "nbconvert_exporter": "python",
      "pygments_lexer": "ipython3",
      "version": "3.9.7"
    },
    "colab": {
      "name": "PySWMM.ipynb",
      "provenance": [],
      "collapsed_sections": []
    }
  },
  "nbformat": 4,
  "nbformat_minor": 5
}